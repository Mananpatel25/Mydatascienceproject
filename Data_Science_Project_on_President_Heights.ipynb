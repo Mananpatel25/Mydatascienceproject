{
  "nbformat": 4,
  "nbformat_minor": 0,
  "metadata": {
    "colab": {
      "name": "Data Science Project on President Heights.ipynb",
      "provenance": []
    },
    "kernelspec": {
      "name": "python3",
      "display_name": "Python 3"
    },
    "language_info": {
      "name": "python"
    }
  },
  "cells": [
    {
      "cell_type": "code",
      "metadata": {
        "colab": {
          "base_uri": "https://localhost:8080/"
        },
        "id": "s6mKlP4T8co3",
        "outputId": "e1217a06-f3ce-4293-b42e-ea57e100dd89"
      },
      "source": [
        "import pandas as pd\n",
        "data = pd.read_csv(\"/content/drive/MyDrive/Heights.csv\")\n",
        "print(data.head())"
      ],
      "execution_count": 2,
      "outputs": [
        {
          "output_type": "stream",
          "name": "stdout",
          "text": [
            "   order               name  height(cm)\n",
            "0      1  George Washington         189\n",
            "1      2         John Adams         170\n",
            "2      3   Thomas Jefferson         189\n",
            "3      4      James Madison         163\n",
            "4      5       James Monroe         183\n"
          ]
        }
      ]
    },
    {
      "cell_type": "code",
      "metadata": {
        "colab": {
          "base_uri": "https://localhost:8080/"
        },
        "id": "IzC-EErBCWVt",
        "outputId": "1f624686-cf6b-468e-cc6d-c4a2ad332919"
      },
      "source": [
        "import numpy as np\n",
        "height = np.array(data[\"height(cm)\"])\n",
        "print(height)"
      ],
      "execution_count": 6,
      "outputs": [
        {
          "output_type": "stream",
          "name": "stdout",
          "text": [
            "[189 170 189 163 183 171 185 168 173 183 173 173 175 178 183 193 178 173\n",
            " 174 183 183 168 170 178 182 180 183 178 182 188 175 179 183 193 182 183\n",
            " 177 185 188 188 182 185]\n"
          ]
        }
      ]
    },
    {
      "cell_type": "code",
      "metadata": {
        "colab": {
          "base_uri": "https://localhost:8080/"
        },
        "id": "BSTHv5dQCsjH",
        "outputId": "ad4626ab-7621-4277-ee75-b86ca1e80948"
      },
      "source": [
        "print(\"Mean of heights = \",height.mean())\n",
        "print(\"Standard deviation = \",height.std())\n",
        "print(\"Minimum height = \",height.min())\n",
        "print(\"Maximum Height = \",height.max())"
      ],
      "execution_count": 7,
      "outputs": [
        {
          "output_type": "stream",
          "name": "stdout",
          "text": [
            "Mean of heights =  179.73809523809524\n",
            "Standard deviation =  6.931843442745892\n",
            "Minimum height =  163\n",
            "Maximum Height =  193\n"
          ]
        }
      ]
    },
    {
      "cell_type": "code",
      "metadata": {
        "colab": {
          "base_uri": "https://localhost:8080/"
        },
        "id": "I2h7KiNCDQi2",
        "outputId": "480dcc2d-ca6b-4afa-82fd-9dc460680fa5"
      },
      "source": [
        "print(\"25th percentile = \", np.percentile(height,25))\n",
        "print(\"Median = \", np.median(height))\n",
        "print(\"75th percentile = \", np.percentile(height,75))"
      ],
      "execution_count": 8,
      "outputs": [
        {
          "output_type": "stream",
          "name": "stdout",
          "text": [
            "25th percentile =  174.25\n",
            "Median =  182.0\n",
            "75th percentile =  183.0\n"
          ]
        }
      ]
    },
    {
      "cell_type": "code",
      "metadata": {
        "colab": {
          "base_uri": "https://localhost:8080/",
          "height": 301
        },
        "id": "wKT03NXoDsO2",
        "outputId": "4f756a3d-7ff1-41c4-d27c-9aa298619229"
      },
      "source": [
        "#visual representation\n",
        "import matplotlib.pyplot as plt\n",
        "import seaborn as sns\n",
        "sns.set()\n",
        "\n",
        "plt.hist(height)\n",
        "plt.title(\"Height distribution of Presidents of United States\")\n",
        "plt.xlabel(\"height(cm)\")\n",
        "plt.ylabel(\"Number\")\n",
        "plt.show()"
      ],
      "execution_count": 9,
      "outputs": [
        {
          "output_type": "display_data",
          "data": {
            "image/png": "[encoded data removed]",
            "text/plain": [
              "<Figure size 432x288 with 1 Axes>"
            ]
          },
          "metadata": {}
        }
      ]
    },
    {
      "cell_type": "code",
      "metadata": {
        "id": "a78m8JI6ENZq"
      },
      "source": [
        ""
      ],
      "execution_count": null,
      "outputs": []
    }
  ]
}