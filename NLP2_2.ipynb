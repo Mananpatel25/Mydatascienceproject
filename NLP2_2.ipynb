{
  "nbformat": 4,
  "nbformat_minor": 0,
  "metadata": {
    "colab": {
      "provenance": [],
      "authorship_tag": "ABX9TyPf253RK6AsSIjbVBjcmv4d",
      "include_colab_link": true
    },
    "kernelspec": {
      "name": "python3",
      "display_name": "Python 3"
    },
    "language_info": {
      "name": "python"
    }
  },
  "cells": [
    {
      "cell_type": "markdown",
      "metadata": {
        "id": "view-in-github",
        "colab_type": "text"
      },
      "source": [
        "<a href=\"https://colab.research.google.com/github/Mananpatel25/Mydatascienceproject/blob/main/NLP2_2.ipynb\" target=\"_parent\"><img src=\"https://colab.research.google.com/assets/colab-badge.svg\" alt=\"Open In Colab\"/></a>"
      ]
    },
    {
      "cell_type": "code",
      "execution_count": 1,
      "metadata": {
        "colab": {
          "base_uri": "https://localhost:8080/"
        },
        "id": "8egZ7qo46dTh",
        "outputId": "7ec6ed99-8f9c-43e9-9d25-7a8540ff5cc5"
      },
      "outputs": [
        {
          "output_type": "stream",
          "name": "stdout",
          "text": [
            "[==================================================] 100.0% 1662.8/1662.8MB downloaded\n",
            "\n",
            "Top 10 most similar words to 'increase':\n",
            "decrease: 0.837\n",
            "increases: 0.771\n",
            "increased: 0.758\n",
            "reduction: 0.691\n",
            "increasing: 0.687\n",
            "decreases: 0.682\n",
            "rise: 0.635\n",
            "decreasing: 0.622\n",
            "decline: 0.613\n",
            "increasein: 0.598\n",
            "\n",
            "Top 10 most similar words to 'decrease':\n",
            "increase: 0.837\n",
            "decreases: 0.809\n",
            "decreased: 0.764\n",
            "reduction: 0.718\n",
            "increased: 0.708\n",
            "decreasing: 0.693\n",
            "decline: 0.686\n",
            "increases: 0.645\n",
            "increasein: 0.621\n",
            "anincrease: 0.588\n",
            "\n",
            "Top 10 most similar words to 'enter':\n",
            "entering: 0.740\n",
            "entered: 0.696\n",
            "reenter: 0.649\n",
            "enters: 0.562\n",
            "entry: 0.552\n",
            "Entering: 0.485\n",
            "participate: 0.482\n",
            "leave: 0.476\n",
            "join: 0.473\n",
            "register: 0.457\n",
            "\n",
            "Top 10 most similar words to 'exit':\n",
            "exits: 0.694\n",
            "exiting: 0.647\n",
            "Rockhouse_stumbled_toward: 0.540\n",
            "Exit: 0.538\n",
            "departure: 0.504\n",
            "Exiting: 0.501\n",
            "entrance: 0.484\n",
            "Inya_Lake_Hotel: 0.484\n",
            "exited: 0.482\n",
            "Brambleton_Boulevard: 0.449\n",
            "\n",
            "Top 10 most similar words to 'rise':\n",
            "rises: 0.725\n",
            "rising: 0.715\n",
            "soar: 0.678\n",
            "decline: 0.678\n",
            "risen: 0.653\n",
            "spike: 0.650\n",
            "increase: 0.635\n",
            "surge: 0.626\n",
            "drop: 0.626\n",
            "skyrocket: 0.617\n",
            "\n",
            "Top 10 most similar words to 'fall':\n",
            "falling: 0.637\n",
            "falls: 0.611\n",
            "drop: 0.591\n",
            "tumble: 0.570\n",
            "rise: 0.560\n",
            "plummet: 0.558\n",
            "fell: 0.555\n",
            "spring: 0.542\n",
            "Fall: 0.541\n",
            "sag: 0.516\n"
          ]
        }
      ],
      "source": [
        "import gensim.downloader as api\n",
        "\n",
        "# Load Word2Vec embeddings\n",
        "model = api.load('word2vec-google-news-300')\n",
        "\n",
        "# Function to show similar words\n",
        "def show_similarities(word):\n",
        "    try:\n",
        "        similar_words = model.most_similar(word, topn=10)\n",
        "        print(f\"\\nTop 10 most similar words to '{word}':\")\n",
        "        for w, sim in similar_words:\n",
        "            print(f\"{w}: {sim:.3f}\")\n",
        "    except KeyError:\n",
        "        print(f\"'{word}' not found in vocabulary\")\n",
        "\n",
        "# Let's examine some verbs with clear antonyms\n",
        "for word in ['increase', 'decrease', 'enter', 'exit', 'rise', 'fall']:\n",
        "    show_similarities(word)"
      ]
    },
    {
      "cell_type": "code",
      "source": [],
      "metadata": {
        "id": "fMBuu6eG6hCz"
      },
      "execution_count": null,
      "outputs": []
    }
  ]
}